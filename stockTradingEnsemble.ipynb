{
  "nbformat": 4,
  "nbformat_minor": 0,
  "metadata": {
    "colab": {
      "name": "stockTradingEnsemble.ipynb",
      "provenance": [],
      "authorship_tag": "ABX9TyPSM5DAWSrI88V09fQ7r+oc",
      "include_colab_link": true
    },
    "kernelspec": {
      "name": "python3",
      "display_name": "Python 3"
    }
  },
  "cells": [
    {
      "cell_type": "markdown",
      "metadata": {
        "id": "view-in-github",
        "colab_type": "text"
      },
      "source": [
        "<a href=\"https://colab.research.google.com/github/shyamsankar11102000/Automated_Stock_Trading_Ensemble13/blob/main/stockTradingEnsemble.ipynb\" target=\"_parent\"><img src=\"https://colab.research.google.com/assets/colab-badge.svg\" alt=\"Open In Colab\"/></a>"
      ]
    },
    {
      "cell_type": "code",
      "metadata": {
        "colab": {
          "base_uri": "https://localhost:8080/"
        },
        "id": "t3ir8KI3xx5G",
        "outputId": "98c5201f-2446-461b-b450-6bf7d60e6d7c"
      },
      "source": [
        "!pip install git+https://github.com/AI4Finance-LLC/FinRL-Library.git"
      ],
      "execution_count": 1,
      "outputs": [
        {
          "output_type": "stream",
          "text": [
            "Collecting git+https://github.com/AI4Finance-LLC/FinRL-Library.git\n",
            "  Cloning https://github.com/AI4Finance-LLC/FinRL-Library.git to /tmp/pip-req-build-p118peji\n",
            "  Running command git clone -q https://github.com/AI4Finance-LLC/FinRL-Library.git /tmp/pip-req-build-p118peji\n",
            "Requirement already satisfied: numpy in /usr/local/lib/python3.6/dist-packages (from finrl==0.0.3) (1.19.5)\n",
            "Requirement already satisfied: pandas>=1.1.5 in /usr/local/lib/python3.6/dist-packages (from finrl==0.0.3) (1.1.5)\n",
            "Collecting stockstats\n",
            "  Downloading https://files.pythonhosted.org/packages/32/41/d3828c5bc0a262cb3112a4024108a3b019c183fa3b3078bff34bf25abf91/stockstats-0.3.2-py2.py3-none-any.whl\n",
            "Collecting yfinance\n",
            "  Downloading https://files.pythonhosted.org/packages/7a/e8/b9d7104d3a4bf39924799067592d9e59119fcfc900a425a12e80a3123ec8/yfinance-0.1.55.tar.gz\n",
            "Requirement already satisfied: matplotlib in /usr/local/lib/python3.6/dist-packages (from finrl==0.0.3) (3.2.2)\n",
            "Requirement already satisfied: scikit-learn>=0.21.0 in /usr/local/lib/python3.6/dist-packages (from finrl==0.0.3) (0.22.2.post1)\n",
            "Requirement already satisfied: gym>=0.17 in /usr/local/lib/python3.6/dist-packages (from finrl==0.0.3) (0.17.3)\n",
            "Collecting stable-baselines3[extra]\n",
            "\u001b[?25l  Downloading https://files.pythonhosted.org/packages/76/7c/ec89fd9a51c2ff640f150479069be817136c02f02349b5dd27a6e3bb8b3d/stable_baselines3-0.10.0-py3-none-any.whl (145kB)\n",
            "\u001b[K     |████████████████████████████████| 153kB 10.5MB/s \n",
            "\u001b[?25hRequirement already satisfied: pytest in /usr/local/lib/python3.6/dist-packages (from finrl==0.0.3) (3.6.4)\n",
            "Requirement already satisfied: setuptools>=41.4.0 in /usr/local/lib/python3.6/dist-packages (from finrl==0.0.3) (51.3.3)\n",
            "Requirement already satisfied: wheel>=0.33.6 in /usr/local/lib/python3.6/dist-packages (from finrl==0.0.3) (0.36.2)\n",
            "Collecting pyfolio@ git+https://github.com/quantopian/pyfolio.git#egg=pyfolio-0.9.2\n",
            "  Cloning https://github.com/quantopian/pyfolio.git to /tmp/pip-install-c_xelgfv/pyfolio\n",
            "  Running command git clone -q https://github.com/quantopian/pyfolio.git /tmp/pip-install-c_xelgfv/pyfolio\n",
            "Requirement already satisfied: python-dateutil>=2.7.3 in /usr/local/lib/python3.6/dist-packages (from pandas>=1.1.5->finrl==0.0.3) (2.8.1)\n",
            "Requirement already satisfied: pytz>=2017.2 in /usr/local/lib/python3.6/dist-packages (from pandas>=1.1.5->finrl==0.0.3) (2018.9)\n",
            "Collecting int-date>=0.1.7\n",
            "  Downloading https://files.pythonhosted.org/packages/43/27/31803df15173ab341fe7548c14154b54227dfd8f630daa09a1c6e7db52f7/int_date-0.1.8-py2.py3-none-any.whl\n",
            "Requirement already satisfied: requests>=2.20 in /usr/local/lib/python3.6/dist-packages (from yfinance->finrl==0.0.3) (2.23.0)\n",
            "Requirement already satisfied: multitasking>=0.0.7 in /usr/local/lib/python3.6/dist-packages (from yfinance->finrl==0.0.3) (0.0.9)\n",
            "Collecting lxml>=4.5.1\n",
            "\u001b[?25l  Downloading https://files.pythonhosted.org/packages/bd/78/56a7c88a57d0d14945472535d0df9fb4bbad7d34ede658ec7961635c790e/lxml-4.6.2-cp36-cp36m-manylinux1_x86_64.whl (5.5MB)\n",
            "\u001b[K     |████████████████████████████████| 5.5MB 19.2MB/s \n",
            "\u001b[?25hRequirement already satisfied: pyparsing!=2.0.4,!=2.1.2,!=2.1.6,>=2.0.1 in /usr/local/lib/python3.6/dist-packages (from matplotlib->finrl==0.0.3) (2.4.7)\n",
            "Requirement already satisfied: kiwisolver>=1.0.1 in /usr/local/lib/python3.6/dist-packages (from matplotlib->finrl==0.0.3) (1.3.1)\n",
            "Requirement already satisfied: cycler>=0.10 in /usr/local/lib/python3.6/dist-packages (from matplotlib->finrl==0.0.3) (0.10.0)\n",
            "Requirement already satisfied: joblib>=0.11 in /usr/local/lib/python3.6/dist-packages (from scikit-learn>=0.21.0->finrl==0.0.3) (1.0.0)\n",
            "Requirement already satisfied: scipy>=0.17.0 in /usr/local/lib/python3.6/dist-packages (from scikit-learn>=0.21.0->finrl==0.0.3) (1.4.1)\n",
            "Requirement already satisfied: pyglet<=1.5.0,>=1.4.0 in /usr/local/lib/python3.6/dist-packages (from gym>=0.17->finrl==0.0.3) (1.5.0)\n",
            "Requirement already satisfied: cloudpickle<1.7.0,>=1.2.0 in /usr/local/lib/python3.6/dist-packages (from gym>=0.17->finrl==0.0.3) (1.3.0)\n",
            "Requirement already satisfied: torch>=1.4.0 in /usr/local/lib/python3.6/dist-packages (from stable-baselines3[extra]->finrl==0.0.3) (1.7.0+cu101)\n",
            "Requirement already satisfied: pillow; extra == \"extra\" in /usr/local/lib/python3.6/dist-packages (from stable-baselines3[extra]->finrl==0.0.3) (7.0.0)\n",
            "Requirement already satisfied: tensorboard; extra == \"extra\" in /usr/local/lib/python3.6/dist-packages (from stable-baselines3[extra]->finrl==0.0.3) (2.4.1)\n",
            "Requirement already satisfied: atari-py~=0.2.0; extra == \"extra\" in /usr/local/lib/python3.6/dist-packages (from stable-baselines3[extra]->finrl==0.0.3) (0.2.6)\n",
            "Requirement already satisfied: opencv-python; extra == \"extra\" in /usr/local/lib/python3.6/dist-packages (from stable-baselines3[extra]->finrl==0.0.3) (4.1.2.30)\n",
            "Requirement already satisfied: psutil; extra == \"extra\" in /usr/local/lib/python3.6/dist-packages (from stable-baselines3[extra]->finrl==0.0.3) (5.4.8)\n",
            "Requirement already satisfied: six>=1.10.0 in /usr/local/lib/python3.6/dist-packages (from pytest->finrl==0.0.3) (1.15.0)\n",
            "Requirement already satisfied: pluggy<0.8,>=0.5 in /usr/local/lib/python3.6/dist-packages (from pytest->finrl==0.0.3) (0.7.1)\n",
            "Requirement already satisfied: attrs>=17.4.0 in /usr/local/lib/python3.6/dist-packages (from pytest->finrl==0.0.3) (20.3.0)\n",
            "Requirement already satisfied: py>=1.5.0 in /usr/local/lib/python3.6/dist-packages (from pytest->finrl==0.0.3) (1.10.0)\n",
            "Requirement already satisfied: atomicwrites>=1.0 in /usr/local/lib/python3.6/dist-packages (from pytest->finrl==0.0.3) (1.4.0)\n",
            "Requirement already satisfied: more-itertools>=4.0.0 in /usr/local/lib/python3.6/dist-packages (from pytest->finrl==0.0.3) (8.6.0)\n",
            "Requirement already satisfied: ipython>=3.2.3 in /usr/local/lib/python3.6/dist-packages (from pyfolio@ git+https://github.com/quantopian/pyfolio.git#egg=pyfolio-0.9.2->finrl==0.0.3) (5.5.0)\n",
            "Requirement already satisfied: seaborn>=0.7.1 in /usr/local/lib/python3.6/dist-packages (from pyfolio@ git+https://github.com/quantopian/pyfolio.git#egg=pyfolio-0.9.2->finrl==0.0.3) (0.11.1)\n",
            "Collecting empyrical>=0.5.0\n",
            "\u001b[?25l  Downloading https://files.pythonhosted.org/packages/74/43/1b997c21411c6ab7c96dc034e160198272c7a785aeea7654c9bcf98bec83/empyrical-0.5.5.tar.gz (52kB)\n",
            "\u001b[K     |████████████████████████████████| 61kB 5.7MB/s \n",
            "\u001b[?25hRequirement already satisfied: idna<3,>=2.5 in /usr/local/lib/python3.6/dist-packages (from requests>=2.20->yfinance->finrl==0.0.3) (2.10)\n",
            "Requirement already satisfied: chardet<4,>=3.0.2 in /usr/local/lib/python3.6/dist-packages (from requests>=2.20->yfinance->finrl==0.0.3) (3.0.4)\n",
            "Requirement already satisfied: urllib3!=1.25.0,!=1.25.1,<1.26,>=1.21.1 in /usr/local/lib/python3.6/dist-packages (from requests>=2.20->yfinance->finrl==0.0.3) (1.24.3)\n",
            "Requirement already satisfied: certifi>=2017.4.17 in /usr/local/lib/python3.6/dist-packages (from requests>=2.20->yfinance->finrl==0.0.3) (2020.12.5)\n",
            "Requirement already satisfied: future in /usr/local/lib/python3.6/dist-packages (from pyglet<=1.5.0,>=1.4.0->gym>=0.17->finrl==0.0.3) (0.16.0)\n",
            "Requirement already satisfied: dataclasses in /usr/local/lib/python3.6/dist-packages (from torch>=1.4.0->stable-baselines3[extra]->finrl==0.0.3) (0.8)\n",
            "Requirement already satisfied: typing-extensions in /usr/local/lib/python3.6/dist-packages (from torch>=1.4.0->stable-baselines3[extra]->finrl==0.0.3) (3.7.4.3)\n",
            "Requirement already satisfied: markdown>=2.6.8 in /usr/local/lib/python3.6/dist-packages (from tensorboard; extra == \"extra\"->stable-baselines3[extra]->finrl==0.0.3) (3.3.3)\n",
            "Requirement already satisfied: werkzeug>=0.11.15 in /usr/local/lib/python3.6/dist-packages (from tensorboard; extra == \"extra\"->stable-baselines3[extra]->finrl==0.0.3) (1.0.1)\n",
            "Requirement already satisfied: grpcio>=1.24.3 in /usr/local/lib/python3.6/dist-packages (from tensorboard; extra == \"extra\"->stable-baselines3[extra]->finrl==0.0.3) (1.32.0)\n",
            "Requirement already satisfied: absl-py>=0.4 in /usr/local/lib/python3.6/dist-packages (from tensorboard; extra == \"extra\"->stable-baselines3[extra]->finrl==0.0.3) (0.10.0)\n",
            "Requirement already satisfied: protobuf>=3.6.0 in /usr/local/lib/python3.6/dist-packages (from tensorboard; extra == \"extra\"->stable-baselines3[extra]->finrl==0.0.3) (3.12.4)\n",
            "Requirement already satisfied: tensorboard-plugin-wit>=1.6.0 in /usr/local/lib/python3.6/dist-packages (from tensorboard; extra == \"extra\"->stable-baselines3[extra]->finrl==0.0.3) (1.8.0)\n",
            "Requirement already satisfied: google-auth-oauthlib<0.5,>=0.4.1 in /usr/local/lib/python3.6/dist-packages (from tensorboard; extra == \"extra\"->stable-baselines3[extra]->finrl==0.0.3) (0.4.2)\n",
            "Requirement already satisfied: google-auth<2,>=1.6.3 in /usr/local/lib/python3.6/dist-packages (from tensorboard; extra == \"extra\"->stable-baselines3[extra]->finrl==0.0.3) (1.17.2)\n",
            "Requirement already satisfied: pexpect; sys_platform != \"win32\" in /usr/local/lib/python3.6/dist-packages (from ipython>=3.2.3->pyfolio@ git+https://github.com/quantopian/pyfolio.git#egg=pyfolio-0.9.2->finrl==0.0.3) (4.8.0)\n",
            "Requirement already satisfied: prompt-toolkit<2.0.0,>=1.0.4 in /usr/local/lib/python3.6/dist-packages (from ipython>=3.2.3->pyfolio@ git+https://github.com/quantopian/pyfolio.git#egg=pyfolio-0.9.2->finrl==0.0.3) (1.0.18)\n",
            "Requirement already satisfied: pickleshare in /usr/local/lib/python3.6/dist-packages (from ipython>=3.2.3->pyfolio@ git+https://github.com/quantopian/pyfolio.git#egg=pyfolio-0.9.2->finrl==0.0.3) (0.7.5)\n",
            "Requirement already satisfied: decorator in /usr/local/lib/python3.6/dist-packages (from ipython>=3.2.3->pyfolio@ git+https://github.com/quantopian/pyfolio.git#egg=pyfolio-0.9.2->finrl==0.0.3) (4.4.2)\n",
            "Requirement already satisfied: pygments in /usr/local/lib/python3.6/dist-packages (from ipython>=3.2.3->pyfolio@ git+https://github.com/quantopian/pyfolio.git#egg=pyfolio-0.9.2->finrl==0.0.3) (2.6.1)\n",
            "Requirement already satisfied: traitlets>=4.2 in /usr/local/lib/python3.6/dist-packages (from ipython>=3.2.3->pyfolio@ git+https://github.com/quantopian/pyfolio.git#egg=pyfolio-0.9.2->finrl==0.0.3) (4.3.3)\n",
            "Requirement already satisfied: simplegeneric>0.8 in /usr/local/lib/python3.6/dist-packages (from ipython>=3.2.3->pyfolio@ git+https://github.com/quantopian/pyfolio.git#egg=pyfolio-0.9.2->finrl==0.0.3) (0.8.1)\n",
            "Requirement already satisfied: pandas-datareader>=0.2 in /usr/local/lib/python3.6/dist-packages (from empyrical>=0.5.0->pyfolio@ git+https://github.com/quantopian/pyfolio.git#egg=pyfolio-0.9.2->finrl==0.0.3) (0.9.0)\n",
            "Requirement already satisfied: importlib-metadata; python_version < \"3.8\" in /usr/local/lib/python3.6/dist-packages (from markdown>=2.6.8->tensorboard; extra == \"extra\"->stable-baselines3[extra]->finrl==0.0.3) (3.4.0)\n",
            "Requirement already satisfied: requests-oauthlib>=0.7.0 in /usr/local/lib/python3.6/dist-packages (from google-auth-oauthlib<0.5,>=0.4.1->tensorboard; extra == \"extra\"->stable-baselines3[extra]->finrl==0.0.3) (1.3.0)\n",
            "Requirement already satisfied: rsa<5,>=3.1.4; python_version >= \"3\" in /usr/local/lib/python3.6/dist-packages (from google-auth<2,>=1.6.3->tensorboard; extra == \"extra\"->stable-baselines3[extra]->finrl==0.0.3) (4.7)\n",
            "Requirement already satisfied: pyasn1-modules>=0.2.1 in /usr/local/lib/python3.6/dist-packages (from google-auth<2,>=1.6.3->tensorboard; extra == \"extra\"->stable-baselines3[extra]->finrl==0.0.3) (0.2.8)\n",
            "Requirement already satisfied: cachetools<5.0,>=2.0.0 in /usr/local/lib/python3.6/dist-packages (from google-auth<2,>=1.6.3->tensorboard; extra == \"extra\"->stable-baselines3[extra]->finrl==0.0.3) (4.2.1)\n",
            "Requirement already satisfied: ptyprocess>=0.5 in /usr/local/lib/python3.6/dist-packages (from pexpect; sys_platform != \"win32\"->ipython>=3.2.3->pyfolio@ git+https://github.com/quantopian/pyfolio.git#egg=pyfolio-0.9.2->finrl==0.0.3) (0.7.0)\n",
            "Requirement already satisfied: wcwidth in /usr/local/lib/python3.6/dist-packages (from prompt-toolkit<2.0.0,>=1.0.4->ipython>=3.2.3->pyfolio@ git+https://github.com/quantopian/pyfolio.git#egg=pyfolio-0.9.2->finrl==0.0.3) (0.2.5)\n",
            "Requirement already satisfied: ipython-genutils in /usr/local/lib/python3.6/dist-packages (from traitlets>=4.2->ipython>=3.2.3->pyfolio@ git+https://github.com/quantopian/pyfolio.git#egg=pyfolio-0.9.2->finrl==0.0.3) (0.2.0)\n",
            "Requirement already satisfied: zipp>=0.5 in /usr/local/lib/python3.6/dist-packages (from importlib-metadata; python_version < \"3.8\"->markdown>=2.6.8->tensorboard; extra == \"extra\"->stable-baselines3[extra]->finrl==0.0.3) (3.4.0)\n",
            "Requirement already satisfied: oauthlib>=3.0.0 in /usr/local/lib/python3.6/dist-packages (from requests-oauthlib>=0.7.0->google-auth-oauthlib<0.5,>=0.4.1->tensorboard; extra == \"extra\"->stable-baselines3[extra]->finrl==0.0.3) (3.1.0)\n",
            "Requirement already satisfied: pyasn1>=0.1.3 in /usr/local/lib/python3.6/dist-packages (from rsa<5,>=3.1.4; python_version >= \"3\"->google-auth<2,>=1.6.3->tensorboard; extra == \"extra\"->stable-baselines3[extra]->finrl==0.0.3) (0.4.8)\n",
            "Building wheels for collected packages: finrl, yfinance, pyfolio, empyrical\n",
            "  Building wheel for finrl (setup.py) ... \u001b[?25l\u001b[?25hdone\n",
            "  Created wheel for finrl: filename=finrl-0.0.3-cp36-none-any.whl size=31229 sha256=a8c0797c85cf09850b5573122de3423f43afe548f6c03aa64a41f20626ad45b1\n",
            "  Stored in directory: /tmp/pip-ephem-wheel-cache-6_pqwbyc/wheels/9c/19/bf/c644def96612df1ad42c94d5304966797eaa3221dffc5efe0b\n",
            "  Building wheel for yfinance (setup.py) ... \u001b[?25l\u001b[?25hdone\n",
            "  Created wheel for yfinance: filename=yfinance-0.1.55-py2.py3-none-any.whl size=22616 sha256=5a563f64e813d47969334d3f90b7cd8e264b8ead15bdbf78bad994d83991c028\n",
            "  Stored in directory: /root/.cache/pip/wheels/04/98/cc/2702a4242d60bdc14f48b4557c427ded1fe92aedf257d4565c\n",
            "  Building wheel for pyfolio (setup.py) ... \u001b[?25l\u001b[?25hdone\n",
            "  Created wheel for pyfolio: filename=pyfolio-0.9.2+75.g4b901f6-cp36-none-any.whl size=75764 sha256=25700ff399cc7c9113c158f61da0fc2c6e9ed4285f533847d23156f7aeee6809\n",
            "  Stored in directory: /tmp/pip-ephem-wheel-cache-6_pqwbyc/wheels/43/ce/d9/6752fb6e03205408773235435205a0519d2c608a94f1976e56\n",
            "  Building wheel for empyrical (setup.py) ... \u001b[?25l\u001b[?25hdone\n",
            "  Created wheel for empyrical: filename=empyrical-0.5.5-cp36-none-any.whl size=39765 sha256=e8819f5767a31e1b23a811ecfde516897f4070c00b8b2888bdf8947ea9dd2176\n",
            "  Stored in directory: /root/.cache/pip/wheels/ea/b2/c8/6769d8444d2f2e608fae2641833110668d0ffd1abeb2e9f3fc\n",
            "Successfully built finrl yfinance pyfolio empyrical\n",
            "Installing collected packages: int-date, stockstats, lxml, yfinance, stable-baselines3, empyrical, pyfolio, finrl\n",
            "  Found existing installation: lxml 4.2.6\n",
            "    Uninstalling lxml-4.2.6:\n",
            "      Successfully uninstalled lxml-4.2.6\n",
            "Successfully installed empyrical-0.5.5 finrl-0.0.3 int-date-0.1.8 lxml-4.6.2 pyfolio-0.9.2+75.g4b901f6 stable-baselines3-0.10.0 stockstats-0.3.2 yfinance-0.1.55\n"
          ],
          "name": "stdout"
        }
      ]
    },
    {
      "cell_type": "code",
      "metadata": {
        "id": "QZjBtU68yIIt"
      },
      "source": [
        "import pandas as pd\r\n",
        "import numpy as np\r\n",
        "import matplotlib\r\n",
        "import matplotlib.pyplot as plt\r\n",
        "# matplotlib.use('Agg')\r\n",
        "import datetime\r\n",
        "\r\n",
        "%matplotlib inline\r\n",
        "from finrl.config import config\r\n",
        "from finrl.marketdata.yahoodownloader import YahooDownloader\r\n",
        "from finrl.preprocessing.preprocessors import FeatureEngineer\r\n",
        "from finrl.preprocessing.data import data_split\r\n",
        "from finrl.env.env_stocktrading import StockTradingEnv\r\n",
        "from finrl.model.models import DRLAgent,DRLEnsembleAgent\r\n",
        "from pprint import pprint\r\n",
        "\r\n",
        "import sys\r\n",
        "sys.path.append(\"../FinRL-Library\")\r\n",
        "\r\n",
        "import itertools"
      ],
      "execution_count": 4,
      "outputs": []
    },
    {
      "cell_type": "code",
      "metadata": {
        "id": "xW60g4v6yadM"
      },
      "source": [
        "import os\r\n",
        "if not os.path.exists(\"./\" + config.DATA_SAVE_DIR):\r\n",
        "    os.makedirs(\"./\" + config.DATA_SAVE_DIR)\r\n",
        "if not os.path.exists(\"./\" + config.TRAINED_MODEL_DIR):\r\n",
        "    os.makedirs(\"./\" + config.TRAINED_MODEL_DIR)\r\n",
        "if not os.path.exists(\"./\" + config.TENSORBOARD_LOG_DIR):\r\n",
        "    os.makedirs(\"./\" + config.TENSORBOARD_LOG_DIR)\r\n",
        "if not os.path.exists(\"./\" + config.RESULTS_DIR):\r\n",
        "    os.makedirs(\"./\" + config.RESULTS_DIR)"
      ],
      "execution_count": 5,
      "outputs": []
    },
    {
      "cell_type": "code",
      "metadata": {
        "colab": {
          "base_uri": "https://localhost:8080/"
        },
        "id": "k1qPL_FMydmn",
        "outputId": "b6982c70-09ad-444f-a373-d09ef4760438"
      },
      "source": [
        "df_stocks = YahooDownloader(start_date='2009-01-01', end_date='2021-01-01', ticker_list=config.DOW_30_TICKER).fetch_data()\r\n"
      ],
      "execution_count": 6,
      "outputs": [
        {
          "output_type": "stream",
          "text": [
            "[*********************100%***********************]  1 of 1 completed\n",
            "[*********************100%***********************]  1 of 1 completed\n",
            "[*********************100%***********************]  1 of 1 completed\n",
            "[*********************100%***********************]  1 of 1 completed\n",
            "[*********************100%***********************]  1 of 1 completed\n",
            "[*********************100%***********************]  1 of 1 completed\n",
            "[*********************100%***********************]  1 of 1 completed\n",
            "[*********************100%***********************]  1 of 1 completed\n",
            "[*********************100%***********************]  1 of 1 completed\n",
            "[*********************100%***********************]  1 of 1 completed\n",
            "[*********************100%***********************]  1 of 1 completed\n",
            "[*********************100%***********************]  1 of 1 completed\n",
            "[*********************100%***********************]  1 of 1 completed\n",
            "[*********************100%***********************]  1 of 1 completed\n",
            "[*********************100%***********************]  1 of 1 completed\n",
            "[*********************100%***********************]  1 of 1 completed\n",
            "[*********************100%***********************]  1 of 1 completed\n",
            "[*********************100%***********************]  1 of 1 completed\n",
            "[*********************100%***********************]  1 of 1 completed\n",
            "[*********************100%***********************]  1 of 1 completed\n",
            "[*********************100%***********************]  1 of 1 completed\n",
            "[*********************100%***********************]  1 of 1 completed\n",
            "[*********************100%***********************]  1 of 1 completed\n",
            "[*********************100%***********************]  1 of 1 completed\n",
            "[*********************100%***********************]  1 of 1 completed\n",
            "[*********************100%***********************]  1 of 1 completed\n",
            "[*********************100%***********************]  1 of 1 completed\n",
            "[*********************100%***********************]  1 of 1 completed\n",
            "[*********************100%***********************]  1 of 1 completed\n",
            "[*********************100%***********************]  1 of 1 completed\n",
            "Shape of DataFrame:  (90630, 8)\n"
          ],
          "name": "stdout"
        }
      ]
    },
    {
      "cell_type": "code",
      "metadata": {
        "colab": {
          "base_uri": "https://localhost:8080/",
          "height": 204
        },
        "id": "Hfafekify71u",
        "outputId": "250b40fc-20bd-41c4-9bef-218e2c81bff9"
      },
      "source": [
        "df_stocks.sort_values(['date','tic']).head()"
      ],
      "execution_count": 7,
      "outputs": [
        {
          "output_type": "execute_result",
          "data": {
            "text/html": [
              "<div>\n",
              "<style scoped>\n",
              "    .dataframe tbody tr th:only-of-type {\n",
              "        vertical-align: middle;\n",
              "    }\n",
              "\n",
              "    .dataframe tbody tr th {\n",
              "        vertical-align: top;\n",
              "    }\n",
              "\n",
              "    .dataframe thead th {\n",
              "        text-align: right;\n",
              "    }\n",
              "</style>\n",
              "<table border=\"1\" class=\"dataframe\">\n",
              "  <thead>\n",
              "    <tr style=\"text-align: right;\">\n",
              "      <th></th>\n",
              "      <th>date</th>\n",
              "      <th>open</th>\n",
              "      <th>high</th>\n",
              "      <th>low</th>\n",
              "      <th>close</th>\n",
              "      <th>volume</th>\n",
              "      <th>tic</th>\n",
              "      <th>day</th>\n",
              "    </tr>\n",
              "  </thead>\n",
              "  <tbody>\n",
              "    <tr>\n",
              "      <th>0</th>\n",
              "      <td>2009-01-02</td>\n",
              "      <td>3.067143</td>\n",
              "      <td>3.251429</td>\n",
              "      <td>3.041429</td>\n",
              "      <td>2.795912</td>\n",
              "      <td>746015200</td>\n",
              "      <td>AAPL</td>\n",
              "      <td>4</td>\n",
              "    </tr>\n",
              "    <tr>\n",
              "      <th>1</th>\n",
              "      <td>2009-01-02</td>\n",
              "      <td>18.570000</td>\n",
              "      <td>19.520000</td>\n",
              "      <td>18.400000</td>\n",
              "      <td>15.745411</td>\n",
              "      <td>10955700</td>\n",
              "      <td>AXP</td>\n",
              "      <td>4</td>\n",
              "    </tr>\n",
              "    <tr>\n",
              "      <th>2</th>\n",
              "      <td>2009-01-02</td>\n",
              "      <td>42.799999</td>\n",
              "      <td>45.560001</td>\n",
              "      <td>42.779999</td>\n",
              "      <td>33.941101</td>\n",
              "      <td>7010200</td>\n",
              "      <td>BA</td>\n",
              "      <td>4</td>\n",
              "    </tr>\n",
              "    <tr>\n",
              "      <th>3</th>\n",
              "      <td>2009-01-02</td>\n",
              "      <td>44.910000</td>\n",
              "      <td>46.980000</td>\n",
              "      <td>44.709999</td>\n",
              "      <td>32.978760</td>\n",
              "      <td>7117200</td>\n",
              "      <td>CAT</td>\n",
              "      <td>4</td>\n",
              "    </tr>\n",
              "    <tr>\n",
              "      <th>4</th>\n",
              "      <td>2009-01-02</td>\n",
              "      <td>16.410000</td>\n",
              "      <td>17.000000</td>\n",
              "      <td>16.250000</td>\n",
              "      <td>12.683227</td>\n",
              "      <td>40980600</td>\n",
              "      <td>CSCO</td>\n",
              "      <td>4</td>\n",
              "    </tr>\n",
              "  </tbody>\n",
              "</table>\n",
              "</div>"
            ],
            "text/plain": [
              "         date       open       high        low      close     volume   tic  day\n",
              "0  2009-01-02   3.067143   3.251429   3.041429   2.795912  746015200  AAPL    4\n",
              "1  2009-01-02  18.570000  19.520000  18.400000  15.745411   10955700   AXP    4\n",
              "2  2009-01-02  42.799999  45.560001  42.779999  33.941101    7010200    BA    4\n",
              "3  2009-01-02  44.910000  46.980000  44.709999  32.978760    7117200   CAT    4\n",
              "4  2009-01-02  16.410000  17.000000  16.250000  12.683227   40980600  CSCO    4"
            ]
          },
          "metadata": {
            "tags": []
          },
          "execution_count": 7
        }
      ]
    },
    {
      "cell_type": "code",
      "metadata": {
        "colab": {
          "base_uri": "https://localhost:8080/"
        },
        "id": "8EgYcSipzGkR",
        "outputId": "cee110d1-94f1-4a75-c248-ab2d45c40117"
      },
      "source": [
        "fe = FeatureEngineer(\r\n",
        "                    use_technical_indicator=True,\r\n",
        "                    tech_indicator_list = config.TECHNICAL_INDICATORS_LIST,\r\n",
        "                    use_turbulence=True,\r\n",
        "                    user_defined_feature = False)\r\n",
        "\r\n",
        "processed = fe.preprocess_data(df_stocks)"
      ],
      "execution_count": 9,
      "outputs": [
        {
          "output_type": "stream",
          "text": [
            "Successfully added technical indicators\n",
            "Successfully added turbulence index\n"
          ],
          "name": "stdout"
        }
      ]
    },
    {
      "cell_type": "code",
      "metadata": {
        "colab": {
          "base_uri": "https://localhost:8080/",
          "height": 309
        },
        "id": "ILt9b8JCzaJo",
        "outputId": "ebd39bbb-1a03-49e9-9038-4edaf86deb3c"
      },
      "source": [
        "list_ticker = processed[\"tic\"].unique().tolist()\r\n",
        "list_date = list(pd.date_range(processed['date'].min(),processed['date'].max()).astype(str))\r\n",
        "combination = list(itertools.product(list_date,list_ticker))\r\n",
        "\r\n",
        "processed_full = pd.DataFrame(combination,columns=[\"date\",\"tic\"]).merge(processed,on=[\"date\",\"tic\"],how=\"left\")\r\n",
        "processed_full = processed_full[processed_full['date'].isin(processed['date'])]\r\n",
        "processed_full = processed_full.sort_values(['date','tic'])\r\n",
        "\r\n",
        "processed_full = processed_full.fillna(0)\r\n",
        "processed_full.sample(5)"
      ],
      "execution_count": 10,
      "outputs": [
        {
          "output_type": "execute_result",
          "data": {
            "text/html": [
              "<div>\n",
              "<style scoped>\n",
              "    .dataframe tbody tr th:only-of-type {\n",
              "        vertical-align: middle;\n",
              "    }\n",
              "\n",
              "    .dataframe tbody tr th {\n",
              "        vertical-align: top;\n",
              "    }\n",
              "\n",
              "    .dataframe thead th {\n",
              "        text-align: right;\n",
              "    }\n",
              "</style>\n",
              "<table border=\"1\" class=\"dataframe\">\n",
              "  <thead>\n",
              "    <tr style=\"text-align: right;\">\n",
              "      <th></th>\n",
              "      <th>date</th>\n",
              "      <th>tic</th>\n",
              "      <th>open</th>\n",
              "      <th>high</th>\n",
              "      <th>low</th>\n",
              "      <th>close</th>\n",
              "      <th>volume</th>\n",
              "      <th>day</th>\n",
              "      <th>macd</th>\n",
              "      <th>boll_ub</th>\n",
              "      <th>boll_lb</th>\n",
              "      <th>rsi_30</th>\n",
              "      <th>cci_30</th>\n",
              "      <th>dx_30</th>\n",
              "      <th>close_30_sma</th>\n",
              "      <th>close_60_sma</th>\n",
              "      <th>turbulence</th>\n",
              "    </tr>\n",
              "  </thead>\n",
              "  <tbody>\n",
              "    <tr>\n",
              "      <th>108998</th>\n",
              "      <td>2018-12-14</td>\n",
              "      <td>GS</td>\n",
              "      <td>174.339996</td>\n",
              "      <td>176.259995</td>\n",
              "      <td>172.369995</td>\n",
              "      <td>165.299011</td>\n",
              "      <td>5078300.0</td>\n",
              "      <td>4.0</td>\n",
              "      <td>4.217307</td>\n",
              "      <td>263.194033</td>\n",
              "      <td>229.223388</td>\n",
              "      <td>54.399971</td>\n",
              "      <td>62.803368</td>\n",
              "      <td>15.363880</td>\n",
              "      <td>244.333553</td>\n",
              "      <td>238.836386</td>\n",
              "      <td>185.140822</td>\n",
              "    </tr>\n",
              "    <tr>\n",
              "      <th>96800</th>\n",
              "      <td>2017-11-02</td>\n",
              "      <td>PFE</td>\n",
              "      <td>33.462997</td>\n",
              "      <td>33.690701</td>\n",
              "      <td>33.235294</td>\n",
              "      <td>29.497370</td>\n",
              "      <td>13880021.0</td>\n",
              "      <td>3.0</td>\n",
              "      <td>0.577860</td>\n",
              "      <td>36.180503</td>\n",
              "      <td>33.528893</td>\n",
              "      <td>62.045621</td>\n",
              "      <td>106.599750</td>\n",
              "      <td>54.018712</td>\n",
              "      <td>34.193107</td>\n",
              "      <td>33.893336</td>\n",
              "      <td>30.287897</td>\n",
              "    </tr>\n",
              "    <tr>\n",
              "      <th>54996</th>\n",
              "      <td>2014-01-09</td>\n",
              "      <td>DD</td>\n",
              "      <td>61.698746</td>\n",
              "      <td>62.083027</td>\n",
              "      <td>60.602825</td>\n",
              "      <td>49.992275</td>\n",
              "      <td>7374287.0</td>\n",
              "      <td>3.0</td>\n",
              "      <td>0.168351</td>\n",
              "      <td>87.188669</td>\n",
              "      <td>83.651961</td>\n",
              "      <td>54.049886</td>\n",
              "      <td>176.876838</td>\n",
              "      <td>4.753755</td>\n",
              "      <td>85.211566</td>\n",
              "      <td>85.820166</td>\n",
              "      <td>21.811821</td>\n",
              "    </tr>\n",
              "    <tr>\n",
              "      <th>86434</th>\n",
              "      <td>2016-11-22</td>\n",
              "      <td>CSCO</td>\n",
              "      <td>30.080000</td>\n",
              "      <td>30.190001</td>\n",
              "      <td>29.850000</td>\n",
              "      <td>26.120735</td>\n",
              "      <td>26769300.0</td>\n",
              "      <td>1.0</td>\n",
              "      <td>-0.437950</td>\n",
              "      <td>51.842796</td>\n",
              "      <td>48.777071</td>\n",
              "      <td>46.804461</td>\n",
              "      <td>-11.423495</td>\n",
              "      <td>26.814328</td>\n",
              "      <td>50.713570</td>\n",
              "      <td>52.557106</td>\n",
              "      <td>50.177597</td>\n",
              "    </tr>\n",
              "    <tr>\n",
              "      <th>40644</th>\n",
              "      <td>2012-09-17</td>\n",
              "      <td>UNH</td>\n",
              "      <td>54.590000</td>\n",
              "      <td>54.639999</td>\n",
              "      <td>54.009998</td>\n",
              "      <td>47.788982</td>\n",
              "      <td>5481600.0</td>\n",
              "      <td>0.0</td>\n",
              "      <td>-0.523061</td>\n",
              "      <td>44.289405</td>\n",
              "      <td>38.260293</td>\n",
              "      <td>52.169483</td>\n",
              "      <td>-59.930237</td>\n",
              "      <td>22.799869</td>\n",
              "      <td>41.676480</td>\n",
              "      <td>41.089199</td>\n",
              "      <td>21.180479</td>\n",
              "    </tr>\n",
              "  </tbody>\n",
              "</table>\n",
              "</div>"
            ],
            "text/plain": [
              "              date   tic        open  ...  close_30_sma  close_60_sma  turbulence\n",
              "108998  2018-12-14    GS  174.339996  ...    244.333553    238.836386  185.140822\n",
              "96800   2017-11-02   PFE   33.462997  ...     34.193107     33.893336   30.287897\n",
              "54996   2014-01-09    DD   61.698746  ...     85.211566     85.820166   21.811821\n",
              "86434   2016-11-22  CSCO   30.080000  ...     50.713570     52.557106   50.177597\n",
              "40644   2012-09-17   UNH   54.590000  ...     41.676480     41.089199   21.180479\n",
              "\n",
              "[5 rows x 17 columns]"
            ]
          },
          "metadata": {
            "tags": []
          },
          "execution_count": 10
        }
      ]
    },
    {
      "cell_type": "code",
      "metadata": {
        "colab": {
          "base_uri": "https://localhost:8080/"
        },
        "id": "_lD-gE34zmNY",
        "outputId": "5426491c-0ddd-4257-85bf-4183b4bb7a5c"
      },
      "source": [
        "stock_dimension = len(processed_full.tic.unique())\r\n",
        "state_space = 1 + 2*stock_dimension + len(config.TECHNICAL_INDICATORS_LIST)*stock_dimension\r\n",
        "print(f\"Stock Dimension: {stock_dimension}, State Space: {state_space}\")"
      ],
      "execution_count": 11,
      "outputs": [
        {
          "output_type": "stream",
          "text": [
            "Stock Dimension: 30, State Space: 301\n"
          ],
          "name": "stdout"
        }
      ]
    },
    {
      "cell_type": "code",
      "metadata": {
        "id": "bYhqhDZezvAF"
      },
      "source": [
        "env_kwargs = {\r\n",
        "    \"hmax\": 100, \r\n",
        "    \"initial_amount\": 50_000_000/100, #Since in Indonesia the minimum number of shares per trx is 100, then we scaled the initial amount by dividing it with 100 \r\n",
        "    \"buy_cost_pct\": 0.0019, #IPOT has 0.19% buy cost\r\n",
        "    \"sell_cost_pct\": 0.0029, #IPOT has 0.29% sell cost\r\n",
        "    \"state_space\": state_space, \r\n",
        "    \"stock_dim\": stock_dimension, \r\n",
        "    \"tech_indicator_list\": config.TECHNICAL_INDICATORS_LIST, \r\n",
        "    \"action_space\": stock_dimension, \r\n",
        "    \"reward_scaling\": 1e-4,\r\n",
        "    \"print_verbosity\":5\r\n",
        "    \r\n",
        "}"
      ],
      "execution_count": 12,
      "outputs": []
    },
    {
      "cell_type": "code",
      "metadata": {
        "id": "Ge0x_XCAzzde"
      },
      "source": [
        "rebalance_window = 63 # rebalance_window is the number of days to retrain the model\r\n",
        "validation_window = 63 # validation_window is the number of days to do validation and trading (e.g. if validation_window=63, then both validation and trading period will be 63 days)\r\n",
        "train_start = '2000-01-01'\r\n",
        "train_end = '2019-01-01'\r\n",
        "val_test_start = '2019-01-01'\r\n",
        "val_test_end = '2021-01-18'\r\n",
        "\r\n",
        "ensemble_agent = DRLEnsembleAgent(df=processed_full,\r\n",
        "                 train_period=(train_start,train_end),\r\n",
        "                 val_test_period=(val_test_start,val_test_end),\r\n",
        "                 rebalance_window=rebalance_window, \r\n",
        "                 validation_window=validation_window, \r\n",
        "                 **env_kwargs)"
      ],
      "execution_count": 13,
      "outputs": []
    },
    {
      "cell_type": "code",
      "metadata": {
        "id": "x1k5WuDWz2yp"
      },
      "source": [
        "A2C_model_kwargs = {\r\n",
        "                    'n_steps': 5,\r\n",
        "                    'ent_coef': 0.01,\r\n",
        "                    'learning_rate': 0.0005\r\n",
        "                    }\r\n",
        "\r\n",
        "PPO_model_kwargs = {\r\n",
        "                    \"ent_coef\":0.01,\r\n",
        "                    \"n_steps\": 2048,\r\n",
        "                    \"learning_rate\": 0.00025,\r\n",
        "                    \"batch_size\": 128\r\n",
        "                    }\r\n",
        "\r\n",
        "DDPG_model_kwargs = {\r\n",
        "                      \"action_noise\":\"ornstein_uhlenbeck\",\r\n",
        "                      \"buffer_size\": 50_000,\r\n",
        "                      \"learning_rate\": 0.000005,\r\n",
        "                      \"batch_size\": 128\r\n",
        "                    }\r\n",
        "\r\n",
        "timesteps_dict = {'a2c' : 100_000, \r\n",
        "                 'ppo' : 100_000, \r\n",
        "                 'ddpg' : 50_000\r\n",
        "                 }"
      ],
      "execution_count": 14,
      "outputs": []
    },
    {
      "cell_type": "code",
      "metadata": {
        "id": "R_KGbk9Iz5AM"
      },
      "source": [
        ""
      ],
      "execution_count": null,
      "outputs": []
    },
    {
      "cell_type": "code",
      "metadata": {
        "id": "kLSSyeZPz52n"
      },
      "source": [
        ""
      ],
      "execution_count": null,
      "outputs": []
    },
    {
      "cell_type": "code",
      "metadata": {
        "id": "EB-uJLXXz6IJ"
      },
      "source": [
        "\"\"\"df_summary = ensemble_agent.run_ensemble_strategy(A2C_model_kwargs,\r\n",
        "                                                 PPO_model_kwargs,\r\n",
        "                                                 DDPG_model_kwargs,\r\n",
        "                                                 timesteps_dict)\"\"\"\r\n",
        "#df_summary"
      ],
      "execution_count": null,
      "outputs": []
    }
  ]
}